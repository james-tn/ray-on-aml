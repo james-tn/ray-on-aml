{
 "cells": [
  {
   "cell_type": "markdown",
   "metadata": {},
   "source": [
    "## Quick examples to demostrate AML Ray/Dask cluster usage"
   ]
  },
  {
   "cell_type": "markdown",
   "metadata": {},
   "source": [
    "### Interactive use cases"
   ]
  },
  {
   "cell_type": "code",
   "execution_count": 1,
   "metadata": {},
   "outputs": [
    {
     "name": "stdout",
     "output_type": "stream",
     "text": [
      "Requirement already satisfied: ray-on-aml in /anaconda/envs/roa_py38/lib/python3.8/site-packages (0.0.7)\n",
      "Collecting ray-on-aml\n",
      "  Downloading ray_on_aml-0.1.1-py3-none-any.whl (10 kB)\n",
      "Requirement already satisfied: adlfs==2021.10.0 in /anaconda/envs/roa_py38/lib/python3.8/site-packages (from ray-on-aml) (2021.10.0)\n",
      "Requirement already satisfied: ray[rllib]==1.9.2 in /anaconda/envs/roa_py38/lib/python3.8/site-packages (from ray-on-aml) (1.9.2)\n",
      "Requirement already satisfied: dask[complete]==2021.12.0 in /anaconda/envs/roa_py38/lib/python3.8/site-packages (from ray-on-aml) (2021.12.0)\n",
      "Requirement already satisfied: fsspec==2021.10.1 in /anaconda/envs/roa_py38/lib/python3.8/site-packages (from ray-on-aml) (2021.10.1)\n",
      "Requirement already satisfied: pyarrow>=5.0.0 in /anaconda/envs/roa_py38/lib/python3.8/site-packages (from ray-on-aml) (6.0.1)\n",
      "Requirement already satisfied: xgboost-ray==0.1.6 in /anaconda/envs/roa_py38/lib/python3.8/site-packages (from ray-on-aml) (0.1.6)\n",
      "Requirement already satisfied: fastparquet==0.7.2 in /anaconda/envs/roa_py38/lib/python3.8/site-packages (from ray-on-aml) (0.7.2)\n",
      "Requirement already satisfied: azure-datalake-store<0.1,>=0.0.46 in /anaconda/envs/roa_py38/lib/python3.8/site-packages (from adlfs==2021.10.0->ray-on-aml) (0.0.52)\n",
      "Requirement already satisfied: azure-core>=1.7.0 in /anaconda/envs/roa_py38/lib/python3.8/site-packages (from adlfs==2021.10.0->ray-on-aml) (1.20.1)\n",
      "Requirement already satisfied: azure-identity in /anaconda/envs/roa_py38/lib/python3.8/site-packages (from adlfs==2021.10.0->ray-on-aml) (1.7.1)\n",
      "Requirement already satisfied: aiohttp in /anaconda/envs/roa_py38/lib/python3.8/site-packages (from adlfs==2021.10.0->ray-on-aml) (3.8.1)\n",
      "Requirement already satisfied: azure-storage-blob>=12.5.0 in /anaconda/envs/roa_py38/lib/python3.8/site-packages (from adlfs==2021.10.0->ray-on-aml) (12.9.0)\n",
      "Requirement already satisfied: cloudpickle>=1.1.1 in /anaconda/envs/roa_py38/lib/python3.8/site-packages (from dask[complete]==2021.12.0->ray-on-aml) (2.0.0)\n",
      "Requirement already satisfied: pyyaml in /anaconda/envs/roa_py38/lib/python3.8/site-packages (from dask[complete]==2021.12.0->ray-on-aml) (6.0)\n",
      "Requirement already satisfied: toolz>=0.8.2 in /anaconda/envs/roa_py38/lib/python3.8/site-packages (from dask[complete]==2021.12.0->ray-on-aml) (0.11.2)\n",
      "Requirement already satisfied: packaging>=20.0 in /anaconda/envs/roa_py38/lib/python3.8/site-packages (from dask[complete]==2021.12.0->ray-on-aml) (21.3)\n",
      "Requirement already satisfied: partd>=0.3.10 in /anaconda/envs/roa_py38/lib/python3.8/site-packages (from dask[complete]==2021.12.0->ray-on-aml) (1.2.0)\n",
      "Requirement already satisfied: numpy>=1.18 in /anaconda/envs/roa_py38/lib/python3.8/site-packages (from dask[complete]==2021.12.0->ray-on-aml) (1.19.1)\n",
      "Requirement already satisfied: jinja2 in /anaconda/envs/roa_py38/lib/python3.8/site-packages (from dask[complete]==2021.12.0->ray-on-aml) (3.0.3)\n",
      "Requirement already satisfied: distributed==2021.12.0 in /anaconda/envs/roa_py38/lib/python3.8/site-packages (from dask[complete]==2021.12.0->ray-on-aml) (2021.12.0)\n",
      "Requirement already satisfied: pandas>=1.0 in /anaconda/envs/roa_py38/lib/python3.8/site-packages (from dask[complete]==2021.12.0->ray-on-aml) (1.3.5)\n",
      "Requirement already satisfied: bokeh>=2.1.1 in /anaconda/envs/roa_py38/lib/python3.8/site-packages (from dask[complete]==2021.12.0->ray-on-aml) (2.4.2)\n",
      "Requirement already satisfied: zict>=0.1.3 in /anaconda/envs/roa_py38/lib/python3.8/site-packages (from distributed==2021.12.0->dask[complete]==2021.12.0->ray-on-aml) (2.0.0)\n",
      "Requirement already satisfied: tornado>=6.0.3 in /anaconda/envs/roa_py38/lib/python3.8/site-packages (from distributed==2021.12.0->dask[complete]==2021.12.0->ray-on-aml) (6.0.4)\n",
      "Requirement already satisfied: psutil>=5.0 in /anaconda/envs/roa_py38/lib/python3.8/site-packages (from distributed==2021.12.0->dask[complete]==2021.12.0->ray-on-aml) (5.9.0)\n",
      "Requirement already satisfied: msgpack>=0.6.0 in /anaconda/envs/roa_py38/lib/python3.8/site-packages (from distributed==2021.12.0->dask[complete]==2021.12.0->ray-on-aml) (1.0.3)\n",
      "Requirement already satisfied: click>=6.6 in /anaconda/envs/roa_py38/lib/python3.8/site-packages (from distributed==2021.12.0->dask[complete]==2021.12.0->ray-on-aml) (8.0.3)\n",
      "Requirement already satisfied: sortedcontainers!=2.0.0,!=2.0.1 in /anaconda/envs/roa_py38/lib/python3.8/site-packages (from distributed==2021.12.0->dask[complete]==2021.12.0->ray-on-aml) (2.4.0)\n",
      "Requirement already satisfied: tblib>=1.6.0 in /anaconda/envs/roa_py38/lib/python3.8/site-packages (from distributed==2021.12.0->dask[complete]==2021.12.0->ray-on-aml) (1.7.0)\n",
      "Requirement already satisfied: setuptools in /anaconda/envs/roa_py38/lib/python3.8/site-packages (from distributed==2021.12.0->dask[complete]==2021.12.0->ray-on-aml) (58.0.4)\n",
      "Requirement already satisfied: thrift>=0.11.0 in /anaconda/envs/roa_py38/lib/python3.8/site-packages (from fastparquet==0.7.2->ray-on-aml) (0.15.0)\n",
      "Requirement already satisfied: cramjam>=2.3.0 in /anaconda/envs/roa_py38/lib/python3.8/site-packages (from fastparquet==0.7.2->ray-on-aml) (2.5.0)\n",
      "Requirement already satisfied: jsonschema in /anaconda/envs/roa_py38/lib/python3.8/site-packages (from ray[rllib]==1.9.2->ray-on-aml) (4.4.0)\n",
      "Requirement already satisfied: filelock in /anaconda/envs/roa_py38/lib/python3.8/site-packages (from ray[rllib]==1.9.2->ray-on-aml) (3.4.2)\n",
      "Requirement already satisfied: redis>=3.5.0 in /anaconda/envs/roa_py38/lib/python3.8/site-packages (from ray[rllib]==1.9.2->ray-on-aml) (4.1.1)\n",
      "Requirement already satisfied: grpcio>=1.28.1 in /anaconda/envs/roa_py38/lib/python3.8/site-packages (from ray[rllib]==1.9.2->ray-on-aml) (1.43.0)\n",
      "Requirement already satisfied: protobuf>=3.15.3 in /anaconda/envs/roa_py38/lib/python3.8/site-packages (from ray[rllib]==1.9.2->ray-on-aml) (3.19.3)\n",
      "Requirement already satisfied: attrs in /anaconda/envs/roa_py38/lib/python3.8/site-packages (from ray[rllib]==1.9.2->ray-on-aml) (21.4.0)\n",
      "Requirement already satisfied: requests in /anaconda/envs/roa_py38/lib/python3.8/site-packages (from ray[rllib]==1.9.2->ray-on-aml) (2.27.1)\n",
      "Requirement already satisfied: tabulate in /anaconda/envs/roa_py38/lib/python3.8/site-packages (from ray[rllib]==1.9.2->ray-on-aml) (0.8.9)\n",
      "Requirement already satisfied: dm-tree in /anaconda/envs/roa_py38/lib/python3.8/site-packages (from ray[rllib]==1.9.2->ray-on-aml) (0.1.6)\n",
      "Requirement already satisfied: tensorboardX>=1.9 in /anaconda/envs/roa_py38/lib/python3.8/site-packages (from ray[rllib]==1.9.2->ray-on-aml) (2.4.1)\n",
      "Requirement already satisfied: scikit-image in /anaconda/envs/roa_py38/lib/python3.8/site-packages (from ray[rllib]==1.9.2->ray-on-aml) (0.19.1)\n",
      "Requirement already satisfied: gym in /anaconda/envs/roa_py38/lib/python3.8/site-packages (from ray[rllib]==1.9.2->ray-on-aml) (0.21.0)\n",
      "Requirement already satisfied: matplotlib!=3.4.3 in /anaconda/envs/roa_py38/lib/python3.8/site-packages (from ray[rllib]==1.9.2->ray-on-aml) (3.3.1)\n",
      "Requirement already satisfied: scipy in /anaconda/envs/roa_py38/lib/python3.8/site-packages (from ray[rllib]==1.9.2->ray-on-aml) (1.7.3)\n",
      "Requirement already satisfied: lz4 in /anaconda/envs/roa_py38/lib/python3.8/site-packages (from ray[rllib]==1.9.2->ray-on-aml) (3.1.10)\n",
      "Requirement already satisfied: aioredis<2 in /anaconda/envs/roa_py38/lib/python3.8/site-packages (from ray[rllib]==1.9.2->ray-on-aml) (1.3.1)\n",
      "Requirement already satisfied: py-spy>=0.2.0 in /anaconda/envs/roa_py38/lib/python3.8/site-packages (from ray[rllib]==1.9.2->ray-on-aml) (0.3.11)\n",
      "Requirement already satisfied: fastapi in /anaconda/envs/roa_py38/lib/python3.8/site-packages (from ray[rllib]==1.9.2->ray-on-aml) (0.72.0)\n",
      "Requirement already satisfied: starlette in /anaconda/envs/roa_py38/lib/python3.8/site-packages (from ray[rllib]==1.9.2->ray-on-aml) (0.17.1)\n",
      "Requirement already satisfied: prometheus-client>=0.7.1 in /anaconda/envs/roa_py38/lib/python3.8/site-packages (from ray[rllib]==1.9.2->ray-on-aml) (0.12.0)\n",
      "Requirement already satisfied: uvicorn in /anaconda/envs/roa_py38/lib/python3.8/site-packages (from ray[rllib]==1.9.2->ray-on-aml) (0.17.0)\n",
      "Requirement already satisfied: colorful in /anaconda/envs/roa_py38/lib/python3.8/site-packages (from ray[rllib]==1.9.2->ray-on-aml) (0.5.4)\n",
      "Requirement already satisfied: gpustat>=1.0.0b1 in /anaconda/envs/roa_py38/lib/python3.8/site-packages (from ray[rllib]==1.9.2->ray-on-aml) (1.0.0b1)\n",
      "Requirement already satisfied: opencensus in /anaconda/envs/roa_py38/lib/python3.8/site-packages (from ray[rllib]==1.9.2->ray-on-aml) (0.8.0)\n",
      "Requirement already satisfied: aiohttp-cors in /anaconda/envs/roa_py38/lib/python3.8/site-packages (from ray[rllib]==1.9.2->ray-on-aml) (0.7.0)\n",
      "Requirement already satisfied: smart-open in /anaconda/envs/roa_py38/lib/python3.8/site-packages (from ray[rllib]==1.9.2->ray-on-aml) (5.2.1)\n",
      "Requirement already satisfied: aiosignal in /anaconda/envs/roa_py38/lib/python3.8/site-packages (from ray[rllib]==1.9.2->ray-on-aml) (1.2.0)\n"
     ]
    },
    {
     "name": "stdout",
     "output_type": "stream",
     "text": [
      "Requirement already satisfied: frozenlist in /anaconda/envs/roa_py38/lib/python3.8/site-packages (from ray[rllib]==1.9.2->ray-on-aml) (1.3.0)\n",
      "Requirement already satisfied: xgboost>=0.90 in /anaconda/envs/roa_py38/lib/python3.8/site-packages (from xgboost-ray==0.1.6->ray-on-aml) (1.5.2)\n",
      "Requirement already satisfied: wrapt>=1.12.1 in /anaconda/envs/roa_py38/lib/python3.8/site-packages (from xgboost-ray==0.1.6->ray-on-aml) (1.13.3)\n",
      "Requirement already satisfied: yarl<2.0,>=1.0 in /anaconda/envs/roa_py38/lib/python3.8/site-packages (from aiohttp->adlfs==2021.10.0->ray-on-aml) (1.7.2)\n",
      "Requirement already satisfied: multidict<7.0,>=4.5 in /anaconda/envs/roa_py38/lib/python3.8/site-packages (from aiohttp->adlfs==2021.10.0->ray-on-aml) (5.2.0)\n",
      "Requirement already satisfied: async-timeout<5.0,>=4.0.0a3 in /anaconda/envs/roa_py38/lib/python3.8/site-packages (from aiohttp->adlfs==2021.10.0->ray-on-aml) (4.0.2)\n",
      "Requirement already satisfied: charset-normalizer<3.0,>=2.0 in /anaconda/envs/roa_py38/lib/python3.8/site-packages (from aiohttp->adlfs==2021.10.0->ray-on-aml) (2.0.10)\n",
      "Requirement already satisfied: hiredis in /anaconda/envs/roa_py38/lib/python3.8/site-packages (from aioredis<2->ray[rllib]==1.9.2->ray-on-aml) (2.0.0)\n",
      "Requirement already satisfied: six>=1.11.0 in /anaconda/envs/roa_py38/lib/python3.8/site-packages (from azure-core>=1.7.0->adlfs==2021.10.0->ray-on-aml) (1.15.0)\n",
      "Requirement already satisfied: cffi in /anaconda/envs/roa_py38/lib/python3.8/site-packages (from azure-datalake-store<0.1,>=0.0.46->adlfs==2021.10.0->ray-on-aml) (1.15.0)\n",
      "Requirement already satisfied: adal>=0.4.2 in /anaconda/envs/roa_py38/lib/python3.8/site-packages (from azure-datalake-store<0.1,>=0.0.46->adlfs==2021.10.0->ray-on-aml) (1.2.7)\n",
      "Requirement already satisfied: cryptography>=1.1.0 in /anaconda/envs/roa_py38/lib/python3.8/site-packages (from adal>=0.4.2->azure-datalake-store<0.1,>=0.0.46->adlfs==2021.10.0->ray-on-aml) (3.4.8)\n",
      "Requirement already satisfied: python-dateutil<3,>=2.1.0 in /anaconda/envs/roa_py38/lib/python3.8/site-packages (from adal>=0.4.2->azure-datalake-store<0.1,>=0.0.46->adlfs==2021.10.0->ray-on-aml) (2.8.1)\n",
      "Requirement already satisfied: PyJWT<3,>=1.0.0 in /anaconda/envs/roa_py38/lib/python3.8/site-packages (from adal>=0.4.2->azure-datalake-store<0.1,>=0.0.46->adlfs==2021.10.0->ray-on-aml) (2.3.0)\n",
      "Requirement already satisfied: msrest>=0.6.21 in /anaconda/envs/roa_py38/lib/python3.8/site-packages (from azure-storage-blob>=12.5.0->adlfs==2021.10.0->ray-on-aml) (0.6.21)\n",
      "Requirement already satisfied: typing-extensions>=3.10.0 in /anaconda/envs/roa_py38/lib/python3.8/site-packages (from bokeh>=2.1.1->dask[complete]==2021.12.0->ray-on-aml) (4.0.1)\n",
      "Requirement already satisfied: pillow>=7.1.0 in /anaconda/envs/roa_py38/lib/python3.8/site-packages (from bokeh>=2.1.1->dask[complete]==2021.12.0->ray-on-aml) (9.0.0)\n",
      "Requirement already satisfied: pycparser in /anaconda/envs/roa_py38/lib/python3.8/site-packages (from cffi->azure-datalake-store<0.1,>=0.0.46->adlfs==2021.10.0->ray-on-aml) (2.21)\n",
      "Requirement already satisfied: nvidia-ml-py3>=7.352.0 in /anaconda/envs/roa_py38/lib/python3.8/site-packages (from gpustat>=1.0.0b1->ray[rllib]==1.9.2->ray-on-aml) (7.352.0)\n",
      "Requirement already satisfied: blessed>=1.17.1 in /anaconda/envs/roa_py38/lib/python3.8/site-packages (from gpustat>=1.0.0b1->ray[rllib]==1.9.2->ray-on-aml) (1.19.1)\n",
      "Requirement already satisfied: wcwidth>=0.1.4 in /anaconda/envs/roa_py38/lib/python3.8/site-packages (from blessed>=1.17.1->gpustat>=1.0.0b1->ray[rllib]==1.9.2->ray-on-aml) (0.2.5)\n",
      "Requirement already satisfied: MarkupSafe>=2.0 in /anaconda/envs/roa_py38/lib/python3.8/site-packages (from jinja2->dask[complete]==2021.12.0->ray-on-aml) (2.0.1)\n",
      "Requirement already satisfied: certifi>=2020.06.20 in /anaconda/envs/roa_py38/lib/python3.8/site-packages (from matplotlib!=3.4.3->ray[rllib]==1.9.2->ray-on-aml) (2021.10.8)\n",
      "Requirement already satisfied: pyparsing!=2.0.4,!=2.1.2,!=2.1.6,>=2.0.3 in /anaconda/envs/roa_py38/lib/python3.8/site-packages (from matplotlib!=3.4.3->ray[rllib]==1.9.2->ray-on-aml) (2.4.7)\n",
      "Requirement already satisfied: cycler>=0.10 in /anaconda/envs/roa_py38/lib/python3.8/site-packages (from matplotlib!=3.4.3->ray[rllib]==1.9.2->ray-on-aml) (0.10.0)\n",
      "Requirement already satisfied: kiwisolver>=1.0.1 in /anaconda/envs/roa_py38/lib/python3.8/site-packages (from matplotlib!=3.4.3->ray[rllib]==1.9.2->ray-on-aml) (1.2.0)\n",
      "Requirement already satisfied: requests-oauthlib>=0.5.0 in /anaconda/envs/roa_py38/lib/python3.8/site-packages (from msrest>=0.6.21->azure-storage-blob>=12.5.0->adlfs==2021.10.0->ray-on-aml) (1.3.0)\n",
      "Requirement already satisfied: isodate>=0.6.0 in /anaconda/envs/roa_py38/lib/python3.8/site-packages (from msrest>=0.6.21->azure-storage-blob>=12.5.0->adlfs==2021.10.0->ray-on-aml) (0.6.1)\n",
      "Requirement already satisfied: pytz>=2017.3 in /anaconda/envs/roa_py38/lib/python3.8/site-packages (from pandas>=1.0->dask[complete]==2021.12.0->ray-on-aml) (2021.3)\n",
      "Requirement already satisfied: locket in /anaconda/envs/roa_py38/lib/python3.8/site-packages (from partd>=0.3.10->dask[complete]==2021.12.0->ray-on-aml) (0.2.1)\n",
      "Requirement already satisfied: deprecated>=1.2.3 in /anaconda/envs/roa_py38/lib/python3.8/site-packages (from redis>=3.5.0->ray[rllib]==1.9.2->ray-on-aml) (1.2.13)\n",
      "Requirement already satisfied: idna<4,>=2.5 in /anaconda/envs/roa_py38/lib/python3.8/site-packages (from requests->ray[rllib]==1.9.2->ray-on-aml) (3.3)\n",
      "Requirement already satisfied: urllib3<1.27,>=1.21.1 in /anaconda/envs/roa_py38/lib/python3.8/site-packages (from requests->ray[rllib]==1.9.2->ray-on-aml) (1.26.7)\n",
      "Requirement already satisfied: oauthlib>=3.0.0 in /anaconda/envs/roa_py38/lib/python3.8/site-packages (from requests-oauthlib>=0.5.0->msrest>=0.6.21->azure-storage-blob>=12.5.0->adlfs==2021.10.0->ray-on-aml) (3.1.1)\n",
      "Requirement already satisfied: heapdict in /anaconda/envs/roa_py38/lib/python3.8/site-packages (from zict>=0.1.3->distributed==2021.12.0->dask[complete]==2021.12.0->ray-on-aml) (1.0.1)\n",
      "Requirement already satisfied: msal-extensions~=0.3.0 in /anaconda/envs/roa_py38/lib/python3.8/site-packages (from azure-identity->adlfs==2021.10.0->ray-on-aml) (0.3.1)\n",
      "Requirement already satisfied: msal<2.0.0,>=1.12.0 in /anaconda/envs/roa_py38/lib/python3.8/site-packages (from azure-identity->adlfs==2021.10.0->ray-on-aml) (1.16.0)\n",
      "Requirement already satisfied: portalocker<3,>=1.0 in /anaconda/envs/roa_py38/lib/python3.8/site-packages (from msal-extensions~=0.3.0->azure-identity->adlfs==2021.10.0->ray-on-aml) (2.3.2)\n",
      "Requirement already satisfied: pydantic!=1.7,!=1.7.1,!=1.7.2,!=1.7.3,!=1.8,!=1.8.1,<2.0.0,>=1.6.2 in /anaconda/envs/roa_py38/lib/python3.8/site-packages (from fastapi->ray[rllib]==1.9.2->ray-on-aml) (1.9.0)\n",
      "Requirement already satisfied: anyio<4,>=3.0.0 in /anaconda/envs/roa_py38/lib/python3.8/site-packages (from starlette->ray[rllib]==1.9.2->ray-on-aml) (3.5.0)\n",
      "Requirement already satisfied: sniffio>=1.1 in /anaconda/envs/roa_py38/lib/python3.8/site-packages (from anyio<4,>=3.0.0->starlette->ray[rllib]==1.9.2->ray-on-aml) (1.2.0)\n",
      "Requirement already satisfied: pyrsistent!=0.17.0,!=0.17.1,!=0.17.2,>=0.14.0 in /anaconda/envs/roa_py38/lib/python3.8/site-packages (from jsonschema->ray[rllib]==1.9.2->ray-on-aml) (0.18.1)\n",
      "Requirement already satisfied: importlib-resources>=1.4.0 in /anaconda/envs/roa_py38/lib/python3.8/site-packages (from jsonschema->ray[rllib]==1.9.2->ray-on-aml) (5.4.0)\n",
      "Requirement already satisfied: zipp>=3.1.0 in /anaconda/envs/roa_py38/lib/python3.8/site-packages (from importlib-resources>=1.4.0->jsonschema->ray[rllib]==1.9.2->ray-on-aml) (3.7.0)\n",
      "Requirement already satisfied: opencensus-context==0.1.2 in /anaconda/envs/roa_py38/lib/python3.8/site-packages (from opencensus->ray[rllib]==1.9.2->ray-on-aml) (0.1.2)\n",
      "Requirement already satisfied: google-api-core<3.0.0,>=1.0.0 in /anaconda/envs/roa_py38/lib/python3.8/site-packages (from opencensus->ray[rllib]==1.9.2->ray-on-aml) (2.4.0)\n",
      "Requirement already satisfied: googleapis-common-protos<2.0dev,>=1.52.0 in /anaconda/envs/roa_py38/lib/python3.8/site-packages (from google-api-core<3.0.0,>=1.0.0->opencensus->ray[rllib]==1.9.2->ray-on-aml) (1.54.0)\n",
      "Requirement already satisfied: google-auth<3.0dev,>=1.25.0 in /anaconda/envs/roa_py38/lib/python3.8/site-packages (from google-api-core<3.0.0,>=1.0.0->opencensus->ray[rllib]==1.9.2->ray-on-aml) (2.3.3)\n"
     ]
    },
    {
     "name": "stdout",
     "output_type": "stream",
     "text": [
      "Requirement already satisfied: rsa<5,>=3.1.4 in /anaconda/envs/roa_py38/lib/python3.8/site-packages (from google-auth<3.0dev,>=1.25.0->google-api-core<3.0.0,>=1.0.0->opencensus->ray[rllib]==1.9.2->ray-on-aml) (4.8)\n",
      "Requirement already satisfied: cachetools<5.0,>=2.0.0 in /anaconda/envs/roa_py38/lib/python3.8/site-packages (from google-auth<3.0dev,>=1.25.0->google-api-core<3.0.0,>=1.0.0->opencensus->ray[rllib]==1.9.2->ray-on-aml) (4.2.4)\n",
      "Requirement already satisfied: pyasn1-modules>=0.2.1 in /anaconda/envs/roa_py38/lib/python3.8/site-packages (from google-auth<3.0dev,>=1.25.0->google-api-core<3.0.0,>=1.0.0->opencensus->ray[rllib]==1.9.2->ray-on-aml) (0.2.8)\n",
      "Requirement already satisfied: pyasn1<0.5.0,>=0.4.6 in /anaconda/envs/roa_py38/lib/python3.8/site-packages (from pyasn1-modules>=0.2.1->google-auth<3.0dev,>=1.25.0->google-api-core<3.0.0,>=1.0.0->opencensus->ray[rllib]==1.9.2->ray-on-aml) (0.4.8)\n",
      "Requirement already satisfied: networkx>=2.2 in /anaconda/envs/roa_py38/lib/python3.8/site-packages (from scikit-image->ray[rllib]==1.9.2->ray-on-aml) (2.6.3)\n",
      "Requirement already satisfied: tifffile>=2019.7.26 in /anaconda/envs/roa_py38/lib/python3.8/site-packages (from scikit-image->ray[rllib]==1.9.2->ray-on-aml) (2021.11.2)\n",
      "Requirement already satisfied: PyWavelets>=1.1.1 in /anaconda/envs/roa_py38/lib/python3.8/site-packages (from scikit-image->ray[rllib]==1.9.2->ray-on-aml) (1.2.0)\n",
      "Requirement already satisfied: imageio>=2.4.1 in /anaconda/envs/roa_py38/lib/python3.8/site-packages (from scikit-image->ray[rllib]==1.9.2->ray-on-aml) (2.14.0)\n",
      "Requirement already satisfied: h11>=0.8 in /anaconda/envs/roa_py38/lib/python3.8/site-packages (from uvicorn->ray[rllib]==1.9.2->ray-on-aml) (0.13.0)\n",
      "Requirement already satisfied: asgiref>=3.4.0 in /anaconda/envs/roa_py38/lib/python3.8/site-packages (from uvicorn->ray[rllib]==1.9.2->ray-on-aml) (3.4.1)\n",
      "Installing collected packages: ray-on-aml\n",
      "  Attempting uninstall: ray-on-aml\n",
      "    Found existing installation: ray-on-aml 0.0.7\n",
      "    Uninstalling ray-on-aml-0.0.7:\n",
      "      Successfully uninstalled ray-on-aml-0.0.7\n",
      "Successfully installed ray-on-aml-0.1.1\n",
      "Note: you may need to restart the kernel to use updated packages.\n"
     ]
    }
   ],
   "source": [
    "pip install --upgrade ray-on-aml"
   ]
  },
  {
   "cell_type": "code",
   "execution_count": null,
   "metadata": {
    "gather": {
     "logged": 1639183943936
    }
   },
   "outputs": [],
   "source": [
    "from azureml.core import Workspace, Experiment, Environment, Datastore, Dataset, ScriptRunConfig\n",
    "from azureml.core.runconfig import PyTorchConfiguration\n",
    "# from azureml.widgets import RunDetails\n",
    "from azureml.core.compute import ComputeTarget, AmlCompute\n",
    "from azureml.core.compute_target import ComputeTargetException\n",
    "from azureml.core.environment import Environment\n",
    "from IPython.display import clear_output\n",
    "import time\n",
    "\n",
    "\n"
   ]
  },
  {
   "cell_type": "markdown",
   "metadata": {},
   "source": [
    "#### Please make sure to create compute cluster in the same vnet with your compute instance. You need to have vnet, otherwise compute cannot communicate with each other\n"
   ]
  },
  {
   "cell_type": "code",
   "execution_count": null,
   "metadata": {
    "gather": {
     "logged": 1639185778952
    }
   },
   "outputs": [],
   "source": [
    "from ray_on_aml.core import Ray_On_AML\n",
    "\n",
    "ws = Workspace.from_config()\n",
    "ray_on_aml =Ray_On_AML(ws=ws, compute_cluster =\"worker-cpu-v3\",exp_name = \"ray-on-aml-test2\", maxnode=2)\n",
    "ray = ray_on_aml.getRay()\n",
    "# Note that by default, ci_is_head=True which means  compute instance as head node and all nodes in the remote compute cluster as workers \n",
    "# But if you want to use one of the nodes in the remote AML compute cluster is used as head node and the remaining are worker nodes.\n",
    "# then simply specify ray = ray_on_aml.getRay(ci_is_head=False)\n",
    "# To install additional library, use additional_pip_packages and additional_conda_packages parameters.\n",
    "time.sleep(50)\n",
    "ray.cluster_resources()"
   ]
  },
  {
   "cell_type": "markdown",
   "metadata": {},
   "source": [
    "#### Dask on Ray"
   ]
  },
  {
   "cell_type": "markdown",
   "metadata": {},
   "source": [
    "##### You can use Dask on this Ray cluster by telling Dask to use Ray as the scheduler. By doing this, you will have a cluster with both Dask and Ray without having to setup them saperately"
   ]
  },
  {
   "cell_type": "code",
   "execution_count": null,
   "metadata": {
    "gather": {
     "logged": 1639183635290
    }
   },
   "outputs": [],
   "source": [
    "#Scaling up date with Dask dataframe API\n",
    "import dask\n",
    "from ray.util.dask import ray_dask_get\n",
    "dask.config.set(scheduler=ray_dask_get)\n",
    "import dask.dataframe as dd\n",
    "\n",
    "storage_options = {'account_name': 'azureopendatastorage'}\n",
    "ddf = dd.read_parquet('az://nyctlc/green/puYear=*/puMonth=*/*.parquet', storage_options=storage_options)\n",
    "ddf.count().compute()\n"
   ]
  },
  {
   "cell_type": "markdown",
   "metadata": {},
   "source": [
    "### Ray Dataset"
   ]
  },
  {
   "cell_type": "code",
   "execution_count": null,
   "metadata": {
    "gather": {
     "logged": 1639186778862
    }
   },
   "outputs": [],
   "source": [
    "#Ray also support Ray dataset. You can read into ray dataset then convert to Dask or other ML format which is convenient for ML training.https://docs.ray.io/en/latest/data/dataset.html\n",
    "from adlfs import AzureBlobFileSystem\n",
    "\n",
    "abfs = AzureBlobFileSystem(account_name=\"azureopendatastorage\",  container_name=\"isdweatherdatacontainer\")\n",
    "#if read all years and months\n",
    "# data = ray.data.read_parquet(\"az://isdweatherdatacontainer/ISDWeather//\", filesystem=abfs)\n",
    "data =ray.data.read_parquet([\"az://isdweatherdatacontainer/ISDWeather/year=2015/\"], filesystem=abfs)\n"
   ]
  },
  {
   "cell_type": "code",
   "execution_count": null,
   "metadata": {},
   "outputs": [],
   "source": [
    "data.count()\n",
    "# 1,584,481,119 is the count for all data "
   ]
  },
  {
   "cell_type": "code",
   "execution_count": null,
   "metadata": {},
   "outputs": [],
   "source": [
    "start = time.time()\n",
    "#convert Ray dataset to Dask dataframe \n",
    "result = data.to_dask().describe().compute()\n",
    "print(result)\n",
    "stop = time.time()\n",
    "print(\"duration \", (stop-start))\n",
    "#717s for single machine nc6\n",
    "# duration  307.69699811935425s for CI as head and 4 workers of DS14_v2\n"
   ]
  },
  {
   "cell_type": "markdown",
   "metadata": {},
   "source": [
    "#### Ray Tune for distributed ML tunning"
   ]
  },
  {
   "cell_type": "code",
   "execution_count": null,
   "metadata": {
    "gather": {
     "logged": 1639186714110
    }
   },
   "outputs": [],
   "source": [
    " import sklearn.datasets\n",
    " import sklearn.metrics\n",
    " from sklearn.model_selection import train_test_split\n",
    " import xgboost as xgb\n",
    "\n",
    " from ray import tune\n",
    "\n",
    "\n",
    " def train_breast_cancer(config):\n",
    "     # Load dataset\n",
    "     data, labels = sklearn.datasets.load_breast_cancer(return_X_y=True)\n",
    "     # Split into train and test set\n",
    "     train_x, test_x, train_y, test_y = train_test_split(\n",
    "         data, labels, test_size=0.25)\n",
    "     # Build input matrices for XGBoost\n",
    "     train_set = xgb.DMatrix(train_x, label=train_y)\n",
    "     test_set = xgb.DMatrix(test_x, label=test_y)\n",
    "     # Train the classifier\n",
    "     results = {}\n",
    "     xgb.train(\n",
    "         config,\n",
    "         train_set,\n",
    "         evals=[(test_set, \"eval\")],\n",
    "         evals_result=results,\n",
    "         verbose_eval=False)\n",
    "     # Return prediction accuracy\n",
    "     accuracy = 1. - results[\"eval\"][\"error\"][-1]\n",
    "     tune.report(mean_accuracy=accuracy, done=True)\n",
    "\n",
    "\n",
    " config = {\n",
    "     \"objective\": \"binary:logistic\",\n",
    "     \"eval_metric\": [\"logloss\", \"error\"],\n",
    "     \"max_depth\": tune.randint(1, 9),\n",
    "     \"min_child_weight\": tune.choice([1, 2, 3]),\n",
    "     \"subsample\": tune.uniform(0.5, 1.0),\n",
    "     \"eta\": tune.loguniform(1e-4, 1e-1)\n",
    " }\n",
    " analysis = tune.run(\n",
    "     train_breast_cancer,\n",
    "     resources_per_trial={\"cpu\": 1},\n",
    "     config=config,\n",
    "     num_samples=10)\n"
   ]
  },
  {
   "cell_type": "markdown",
   "metadata": {},
   "source": [
    "#### Distributed XGBoost https://docs.ray.io/en/latest/xgboost-ray.html"
   ]
  },
  {
   "cell_type": "code",
   "execution_count": null,
   "metadata": {},
   "outputs": [],
   "source": [
    "from xgboost_ray import RayXGBClassifier, RayParams\n",
    "from sklearn.datasets import load_breast_cancer\n",
    "from sklearn.model_selection import train_test_split\n",
    "\n",
    "seed = 42\n",
    "\n",
    "X, y = load_breast_cancer(return_X_y=True)\n",
    "X_train, X_test, y_train, y_test = train_test_split(\n",
    "    X, y, train_size=0.25, random_state=42\n",
    ")\n",
    "\n",
    "clf = RayXGBClassifier(\n",
    "    n_jobs=10,  # In XGBoost-Ray, n_jobs sets the number of actors\n",
    "    random_state=seed\n",
    ")\n",
    "\n",
    "# scikit-learn API will automatically conver the data\n",
    "# to RayDMatrix format as needed.\n",
    "# You can also pass X as a RayDMatrix, in which case\n",
    "# y will be ignored.\n",
    "\n",
    "clf.fit(X_train, y_train)\n",
    "\n",
    "pred_ray = clf.predict(X_test)\n",
    "print(pred_ray.shape)\n",
    "\n",
    "pred_proba_ray = clf.predict_proba(X_test)\n",
    "print(pred_proba_ray.shape)\n",
    "\n",
    "# It is also possible to pass a RayParams object\n",
    "# to fit/predict/predict_proba methods - will override\n",
    "# n_jobs set during initialization\n",
    "\n",
    "clf.fit(X_train, y_train, ray_params=RayParams(num_actors=10))\n",
    "\n",
    "pred_ray = clf.predict(X_test, ray_params=RayParams(num_actors=10))\n",
    "print(pred_ray.shape)\n"
   ]
  },
  {
   "cell_type": "code",
   "execution_count": null,
   "metadata": {},
   "outputs": [],
   "source": [
    "from xgboost_ray import RayDMatrix, RayParams, train\n",
    "from sklearn.datasets import load_breast_cancer\n",
    "\n",
    "train_x, train_y = load_breast_cancer(return_X_y=True)\n",
    "train_set = RayDMatrix(train_x, train_y)\n",
    "\n",
    "evals_result = {}\n",
    "bst = train(\n",
    "    {\n",
    "        \"objective\": \"binary:logistic\",\n",
    "        \"eval_metric\": [\"logloss\", \"error\"],\n",
    "    },\n",
    "    train_set,\n",
    "    evals_result=evals_result,\n",
    "    evals=[(train_set, \"train\")],\n",
    "    verbose_eval=False,\n",
    "    ray_params=RayParams(\n",
    "        num_actors=10,  # Number of remote actors\n",
    "        cpus_per_actor=1))\n",
    "\n",
    "bst.save_model(\"model.xgb\")\n",
    "print(\"Final training error: {:.4f}\".format(\n",
    "    evals_result[\"train\"][\"error\"][-1]))\n"
   ]
  },
  {
   "cell_type": "markdown",
   "metadata": {},
   "source": [
    "### Ray Serve (https://docs.ray.io/en/latest/serve/index.html)"
   ]
  },
  {
   "cell_type": "code",
   "execution_count": null,
   "metadata": {},
   "outputs": [],
   "source": [
    "import requests\n",
    "\n",
    "from ray import serve\n",
    "\n",
    "serve.start()\n",
    "\n",
    "\n",
    "@serve.deployment\n",
    "def hello(request):\n",
    "    name = request.query_params[\"name\"]\n",
    "    return f\"Hello {name}!\"\n",
    "\n",
    "\n",
    "hello.deploy()\n",
    "\n",
    "# Query our endpoint over HTTP.\n",
    "response = requests.get(\"http://127.0.0.1:8000/hello?name=serve\").text\n",
    "assert response == \"Hello serve!\""
   ]
  },
  {
   "cell_type": "markdown",
   "metadata": {},
   "source": [
    "### Reinforcement Learning"
   ]
  },
  {
   "cell_type": "code",
   "execution_count": null,
   "metadata": {},
   "outputs": [],
   "source": [
    "## Install library at compute instance: pip install gym,dm-tree"
   ]
  },
  {
   "cell_type": "code",
   "execution_count": null,
   "metadata": {},
   "outputs": [],
   "source": [
    "#Install additional library at Ray cluster\n",
    "ray_on_aml =Ray_On_AML(ws=ws, compute_cluster =\"d15-v2\",additional_pip_packages=['torch==1.10.0', 'torchvision', 'sklearn', 'pyspark','gym','dm-tree','scikit-image','opencv-python','tensorflow'], maxnode=1)\n",
    "ray = ray_on_aml.getRay()\n",
    "time.sleep(20)\n",
    "ray.cluster_resources()"
   ]
  },
  {
   "cell_type": "code",
   "execution_count": null,
   "metadata": {},
   "outputs": [],
   "source": [
    "ray.cluster_resources()"
   ]
  },
  {
   "cell_type": "code",
   "execution_count": null,
   "metadata": {},
   "outputs": [],
   "source": [
    "# Import the RL algorithm (Trainer) we would like to use.\n",
    "from ray.rllib.agents.ppo import PPOTrainer\n",
    "\n",
    "# Configure the algorithm.\n",
    "config = {\n",
    "    # Environment (RLlib understands openAI gym registered strings).\n",
    "    \"env\": \"Taxi-v3\",\n",
    "    # Use 2 environment workers (aka \"rollout workers\") that parallelly\n",
    "    # collect samples from their own environment clone(s).\n",
    "    \"num_workers\": 2,\n",
    "    # Change this to \"framework: torch\", if you are using PyTorch.\n",
    "    # Also, use \"framework: tf2\" for tf2.x eager execution.\n",
    "    \"framework\": \"torch\",\n",
    "    # Tweak the default model provided automatically by RLlib,\n",
    "    # given the environment's observation- and action spaces.\n",
    "    \"model\": {\n",
    "        \"fcnet_hiddens\": [64, 64],\n",
    "        \"fcnet_activation\": \"relu\",\n",
    "    },\n",
    "    # Set up a separate evaluation worker set for the\n",
    "    # `trainer.evaluate()` call after training (see below).\n",
    "    \"evaluation_num_workers\": 1,\n",
    "    # Only for evaluation runs, render the env.\n",
    "    \"evaluation_config\": {\n",
    "        \"render_env\": True,\n",
    "    }\n",
    "}\n",
    "\n",
    "# Create our RLlib Trainer.\n",
    "trainer = PPOTrainer(config=config)\n",
    "\n",
    "# Run it for n training iterations. A training iteration includes\n",
    "# parallel sample collection by the environment workers as well as\n",
    "# loss calculation on the collected batch and a model update.\n",
    "for _ in range(3):\n",
    "    print(trainer.train())\n",
    "\n",
    "# Evaluate the trained Trainer (and render each timestep to the shell's\n",
    "# output).\n",
    "trainer.evaluate()\n",
    "\n"
   ]
  },
  {
   "cell_type": "markdown",
   "metadata": {},
   "source": [
    "### Shutdown interactive cluster when not used\n"
   ]
  },
  {
   "cell_type": "code",
   "execution_count": null,
   "metadata": {},
   "outputs": [],
   "source": [
    "ray_on_aml.shutdown()\n"
   ]
  },
  {
   "cell_type": "markdown",
   "metadata": {},
   "source": [
    "### Ray on Job Cluster (you don't need interactive Ray cluster to be on to submit the AML job )"
   ]
  },
  {
   "cell_type": "code",
   "execution_count": null,
   "metadata": {
    "gather": {
     "logged": 1639179342786
    }
   },
   "outputs": [],
   "source": [
    "from azureml.core import Workspace, Experiment, Environment,ScriptRunConfig\n",
    "from azureml.widgets import RunDetails\n",
    "from azureml.core.compute import ComputeTarget, AmlCompute\n",
    "from azureml.core.compute_target import ComputeTargetException\n",
    "from azureml.core.runconfig import RunConfiguration\n",
    "#Remember the AML job has to have distribted setings (MPI type) for ray-on-aml to work correctly.\n",
    "ws = Workspace.from_config()\n",
    "compute_cluster = 'd15-v2' #This can be another cluster different from the interactive cluster. \n",
    "ray_cluster = ComputeTarget(workspace=ws, name=compute_cluster)\n",
    "\n",
    "aml_run_config_ml = RunConfiguration(communicator='OpenMpi')\n",
    "\n",
    "\n",
    "#Check the conda_env.yml, it has an entry of ray-on-aml\n",
    "rayEnv = Environment.from_conda_specification(name = \"RLEnv\",\n",
    "                                             file_path = \"../examples/conda_env.yml\")\n",
    "\n",
    "\n",
    "aml_run_config_ml.target = ray_cluster\n",
    "aml_run_config_ml.node_count = 1\n",
    "aml_run_config_ml.environment = rayEnv\n",
    "src = ScriptRunConfig(source_directory='../examples/job',\n",
    "                    script='aml_job.py',\n",
    "                    run_config = aml_run_config_ml,\n",
    "                   )\n",
    "\n",
    "run = Experiment(ws, \"rl_on_aml_job\").submit(src)\n"
   ]
  },
  {
   "cell_type": "code",
   "execution_count": null,
   "metadata": {},
   "outputs": [],
   "source": [
    "from azureml.widgets import RunDetails\n",
    "RunDetails(run).show()\n"
   ]
  }
 ],
 "metadata": {
  "interpreter": {
   "hash": "6d65a8c07f5b6469e0fc613f182488c0dccce05038bbda39e5ac9075c0454d11"
  },
  "kernel_info": {
   "name": "python38-azureml"
  },
  "kernelspec": {
   "display_name": "roa_py38",
   "language": "python",
   "name": "roa_py38"
  },
  "language_info": {
   "codemirror_mode": {
    "name": "ipython",
    "version": 3
   },
   "file_extension": ".py",
   "mimetype": "text/x-python",
   "name": "python",
   "nbconvert_exporter": "python",
   "pygments_lexer": "ipython3",
   "version": "3.8.1"
  },
  "microsoft": {
   "host": {
    "AzureML": {
     "notebookHasBeenCompleted": true
    }
   }
  },
  "nteract": {
   "version": "nteract-front-end@1.0.0"
  }
 },
 "nbformat": 4,
 "nbformat_minor": 4
}
